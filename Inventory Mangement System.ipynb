{
  "nbformat": 4,
  "nbformat_minor": 0,
  "metadata": {
    "colab": {
      "name": "JSON_based_ims_solution.ipynb",
      "provenance": []
    },
    "kernelspec": {
      "name": "python3",
      "display_name": "Python 3"
    },
    "language_info": {
      "name": "python"
    }
  },
  "cells": [
    {
      "cell_type": "markdown",
      "metadata": {
        "id": "76kmh9ml8JO9"
      },
      "source": [
        "# Loading the files\n"
      ]
    },
    {
      "cell_type": "code",
      "metadata": {
        "colab": {
          "base_uri": "https://localhost:8080/"
        },
        "id": "pTRIbuPp7d20",
        "outputId": "380c2a3c-3b54-4ce0-97cd-a177e4e88fa9"
      },
      "source": [
        "!git clone https://github.com/AshishJangra27/Skill-India-AI-ML-Scholarship"
      ],
      "execution_count": 1,
      "outputs": [
        {
          "output_type": "stream",
          "name": "stdout",
          "text": [
            "fatal: destination path 'Skill-India-AI-ML-Scholarship' already exists and is not an empty directory.\n"
          ]
        }
      ]
    },
    {
      "cell_type": "code",
      "metadata": {
        "id": "qOiCSnyy8uol"
      },
      "source": [
        "import json\n",
        "import time"
      ],
      "execution_count": 2,
      "outputs": []
    },
    {
      "cell_type": "code",
      "metadata": {
        "id": "4qvZ_U-i7-7G"
      },
      "source": [
        "fd = open('/content/Skill-India-AI-ML-Scholarship/JSON Based Inventory management Assignment/record.json', 'r')\n",
        "t = fd.read()\n",
        "fd.close()"
      ],
      "execution_count": 3,
      "outputs": []
    },
    {
      "cell_type": "code",
      "metadata": {
        "id": "W-13D77n8dJF"
      },
      "source": [
        "fd = open('record.json','w')\n",
        "fd.write(t)\n",
        "fd.close()"
      ],
      "execution_count": 4,
      "outputs": []
    },
    {
      "cell_type": "code",
      "metadata": {
        "id": "KheSbwG78mkq"
      },
      "source": [
        "sales = {}\n",
        "\n",
        "sales = json.dumps(sales)\n",
        "\n",
        "fd = open(\"sales.json\", 'w')\n",
        "fd.write(sales)\n",
        "fd.close()"
      ],
      "execution_count": 5,
      "outputs": []
    },
    {
      "cell_type": "code",
      "metadata": {
        "colab": {
          "base_uri": "https://localhost:8080/"
        },
        "id": "jM2Uyw-b81hH",
        "outputId": "8e4248a1-9899-4868-e714-dc8f8f488d6c"
      },
      "source": [
        "# Loading Inventory and Converting it to Dictionary\n",
        "fd = open('record.json','r')\n",
        "t = fd.read()\n",
        "fd.close()\n",
        "dct = json.loads(t)\n",
        "\n",
        "# Loading Sales and Converting it to Dictionary\n",
        "fd = open(\"sales.json\", 'r')\n",
        "sl = fd.read()\n",
        "fd.close()\n",
        "sales = json.loads(sl)\n",
        "\n",
        "\n",
        "# Displaying Menu\n",
        "print(\"**********************************************\")\n",
        "for i in dct.keys():\n",
        "  print(i, dct[i])\n",
        "\n",
        "print(\"******************************************\\n\")\n",
        "\n",
        "# Taking Input from User to Enter what he/she wants to purchase\n",
        "ui_prod  = str(input(\"Enter the product_Id: \"))\n",
        "ui_quant = int(input(\"Enter the quantity: \"))\n",
        "\n",
        "\n",
        "if (ui_prod in dct.keys()):                                                     # Checking If product Exists or not\n",
        "    if (dct[ui_prod]['qn'] >= ui_quant):                                        # If I'm having enough Quantity\n",
        "      print(\"Name:\",dct[ui_prod]['name'])\n",
        "      print(\"Price:\",dct[ui_prod]['pr'])\n",
        "      print(\"Quantity:\", ui_quant)\n",
        "      print(\"------------------------------\")\n",
        "      print(\"Billing Amount:\", dct[ui_prod]['pr'] * ui_quant)\n",
        "\n",
        "      dct[ui_prod]['qn'] = dct[ui_prod]['qn'] - ui_quant                        # Updating Inventory\n",
        "\n",
        "      sales[str(len(sales)+1)] = {'prod_id' : ui_prod,                          # Updating Transection\n",
        "                                  \"time_pr\" :  time.ctime(), \n",
        "                                  'bill' : dct[ui_prod]['pr'] * ui_quant, \n",
        "                                  'qn' : ui_quant, \n",
        "                                  'pr' : dct[ui_prod]['pr'], \n",
        "                                  'pr_name' : dct[ui_prod]['name']}\n",
        "\n",
        "\n",
        "    else:                                                                       # If I'm not having enough Quantity\n",
        "      print(\"Sorry, We are not having that much of quantity.\")\n",
        "      print(\"We're only having\",dct[ui_prod]['qn'],\"quantity.\")\n",
        "      print(\"Would you like to purchase or not (Y/N)\")\n",
        "      ch = str(input(\"Y/N\"))\n",
        "\n",
        "      if (ch == \"Y\"):                                                           # If user wants to purchase the quantitry we're having\n",
        "        print(\"Name:\",dct[ui_prod]['name'])\n",
        "        print(\"Price:\",dct[ui_prod]['pr'])\n",
        "        print(\"Quantity:\", dct[ui_prod]['qn'])\n",
        "        print(\"------------------------------\")\n",
        "        print(\"Billing Amount:\", dct[ui_prod]['pr'] * dct[ui_prod]['qn'])\n",
        "\n",
        "        dct[ui_prod]['qn'] = 0                                                  # Updating Inventory\n",
        "\n",
        "        sales[str(len(sales)+1)] = {'prod_id' : ui_prod,                        # Updating Transection\n",
        "                                    \"time_pr\" :  time.ctime(), \n",
        "                                    'bill' : dct[ui_prod]['pr'] * dct[ui_prod]['qn'], \n",
        "                                    'qn' : dct[ui_prod]['qn'], \n",
        "                                    'pr' : dct[ui_prod]['pr'], \n",
        "                                    'pr_name' : dct[ui_prod]['name']}\n",
        "\n",
        "      else:                                                                     # If user press anything Except Y\n",
        "        print(\"Thankyou!\")\n",
        "\n",
        "else:                                                                           # Product ID Doesn't exists\n",
        "  print(\"------------------------------\")\n",
        "  print(\"Product doesn't exist!\")\n",
        "  print(\"Please enter a valid product id\")\n",
        "  print(\"------------------------------\")\n",
        "\n",
        "\n",
        "\n",
        "sl = json.dumps(sales)                                                          # Updating Sales File\n",
        "fd = open('sales.json','w')\n",
        "fd.write(sl)\n",
        "fd.close()\n",
        "\n",
        "print(\"------------------------------\")\n",
        "print(\"Data Updated in Sales File!\")\n",
        "\n",
        "js = json.dumps(dct)                                                            # Updating Inventory File\n",
        "fd = open('record.json','w')\n",
        "fd.write(js)\n",
        "fd.close()\n",
        "\n",
        "print(\"Data Updated in Inventory File!\")"
      ],
      "execution_count": 6,
      "outputs": [
        {
          "output_type": "stream",
          "name": "stdout",
          "text": [
            "**********************************************\n",
            "1001 {'name': 'Choco Cake', 'qn': 34, 'pr': 100}\n",
            "1002 {'name': 'Milk Cake', 'pr': 800, 'qn': 100}\n",
            "1003 {'name': 'Drink', 'pr': 85, 'qn': 100}\n",
            "1004 {'name': 'Candy', 'pr': 5, 'qn': 1000}\n",
            "1005 {'name': 'Pen', 'pr': 20, 'qn': 100}\n",
            "1006 {'name': 'Phone', 'pr': 50000, 'qn': 10}\n",
            "1007 {'name': 'Mic', 'pr': 1500, 'qn': 0}\n",
            "1008 {'name': 'Case', 'pr': 599, 'qn': 5}\n",
            "1009 {'name': 'Keyboard', 'pr': 1999, 'qn': 10}\n",
            "******************************************\n",
            "\n",
            "Enter the product_Id: 1007\n",
            "Enter the quantity: 3\n",
            "Sorry, We are not having that much of quantity.\n",
            "We're only having 0 quantity.\n",
            "Would you like to purchase or not (Y/N)\n",
            "Y/Ny\n",
            "Thankyou!\n",
            "------------------------------\n",
            "Data Updated in Sales File!\n",
            "Data Updated in Inventory File!\n"
          ]
        }
      ]
    },
    {
      "cell_type": "code",
      "metadata": {
        "colab": {
          "base_uri": "https://localhost:8080/"
        },
        "id": "4KIWu81r95r5",
        "outputId": "d9a33858-2abd-4c3f-e59d-047929e74fed"
      },
      "source": [
        "dct"
      ],
      "execution_count": 7,
      "outputs": [
        {
          "output_type": "execute_result",
          "data": {
            "text/plain": [
              "{'1001': {'name': 'Choco Cake', 'pr': 100, 'qn': 34},\n",
              " '1002': {'name': 'Milk Cake', 'pr': 800, 'qn': 100},\n",
              " '1003': {'name': 'Drink', 'pr': 85, 'qn': 100},\n",
              " '1004': {'name': 'Candy', 'pr': 5, 'qn': 1000},\n",
              " '1005': {'name': 'Pen', 'pr': 20, 'qn': 100},\n",
              " '1006': {'name': 'Phone', 'pr': 50000, 'qn': 10},\n",
              " '1007': {'name': 'Mic', 'pr': 1500, 'qn': 0},\n",
              " '1008': {'name': 'Case', 'pr': 599, 'qn': 5},\n",
              " '1009': {'name': 'Keyboard', 'pr': 1999, 'qn': 10}}"
            ]
          },
          "metadata": {},
          "execution_count": 7
        }
      ]
    },
    {
      "cell_type": "code",
      "metadata": {
        "colab": {
          "base_uri": "https://localhost:8080/"
        },
        "id": "tuVMVKu096Sh",
        "outputId": "67f1e270-2934-421e-c4d9-0146eccd839d"
      },
      "source": [
        "sales"
      ],
      "execution_count": 8,
      "outputs": [
        {
          "output_type": "execute_result",
          "data": {
            "text/plain": [
              "{}"
            ]
          },
          "metadata": {},
          "execution_count": 8
        }
      ]
    },
    {
      "cell_type": "code",
      "metadata": {
        "id": "KgckA59J98KN"
      },
      "source": [
        ""
      ],
      "execution_count": 8,
      "outputs": []
    }
  ]
}